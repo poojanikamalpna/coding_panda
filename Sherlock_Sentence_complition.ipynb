{
 "cells": [
  {
   "cell_type": "code",
   "execution_count": null,
   "metadata": {
    "id": "Y-_gfNOZ1kGH"
   },
   "outputs": [],
   "source": [
    "from warnings import filterwarnings\n",
    "filterwarnings(\"ignore\")\n",
    "A=open(\"/content/sherlock.txt\")"
   ]
  },
  {
   "cell_type": "code",
   "execution_count": null,
   "metadata": {
    "id": "_Dqa24a21_WM"
   },
   "outputs": [],
   "source": [
    "#A.read()"
   ]
  },
  {
   "cell_type": "code",
   "execution_count": null,
   "metadata": {
    "id": "_s8vGb_J2Btm"
   },
   "outputs": [],
   "source": [
    "#Preprocessing"
   ]
  },
  {
   "cell_type": "code",
   "execution_count": null,
   "metadata": {
    "id": "oVDV9vwu2hGX"
   },
   "outputs": [],
   "source": [
    "W=A.read()"
   ]
  },
  {
   "cell_type": "code",
   "execution_count": 55,
   "metadata": {
    "id": "Sw8X-Wl4RTpq"
   },
   "outputs": [],
   "source": [
    "W=W[0:100]"
   ]
  },
  {
   "cell_type": "code",
   "execution_count": 56,
   "metadata": {
    "colab": {
     "base_uri": "https://localhost:8080/"
    },
    "id": "2Vg6DIG370w1",
    "outputId": "59695ed9-2bbe-4185-cf3a-492b06c86e8b"
   },
   "outputs": [
    {
     "name": "stdout",
     "output_type": "stream",
     "text": [
      "[nltk_data] Downloading package wordnet to /root/nltk_data...\n",
      "[nltk_data]   Package wordnet is already up-to-date!\n"
     ]
    },
    {
     "data": {
      "text/plain": [
       "True"
      ]
     },
     "execution_count": 56,
     "metadata": {},
     "output_type": "execute_result"
    }
   ],
   "source": [
    "import nltk\n",
    "nltk.download(\"wordnet\")"
   ]
  },
  {
   "cell_type": "code",
   "execution_count": 57,
   "metadata": {
    "id": "uMRo4Cqd2kvm"
   },
   "outputs": [],
   "source": [
    "import re\n",
    "from nltk.stem import PorterStemmer\n",
    "from nltk.stem import WordNetLemmatizer\n",
    "ps=PorterStemmer()\n",
    "wnl=WordNetLemmatizer()\n",
    "words=[]\n",
    "for i in W.split(\" \"):\n",
    "  upr=i.upper()\n",
    "  splch=re.sub(\"[^A-Z0-9]\",\"\",upr)\n",
    "  stemed=ps.stem(splch)\n",
    "  lemmed=wnl.lemmatize(stemed)\n",
    "  words.append(lemmed.upper())\n"
   ]
  },
  {
   "cell_type": "markdown",
   "metadata": {
    "id": "Tft4gvXP8G5e"
   },
   "source": [
    "Convert Data Into X|Y Format"
   ]
  },
  {
   "cell_type": "code",
   "execution_count": 58,
   "metadata": {
    "id": "2dwSvKlH7l7x"
   },
   "outputs": [],
   "source": [
    "str_X=[]\n",
    "str_Y=[]"
   ]
  },
  {
   "cell_type": "code",
   "execution_count": 59,
   "metadata": {
    "colab": {
     "base_uri": "https://localhost:8080/"
    },
    "id": "ii4lM4No8Vg8",
    "outputId": "ef69e641-bca9-4246-83c9-54d986caee78"
   },
   "outputs": [
    {
     "data": {
      "text/plain": [
       "15"
      ]
     },
     "execution_count": 59,
     "metadata": {},
     "output_type": "execute_result"
    }
   ],
   "source": [
    "len(words)"
   ]
  },
  {
   "cell_type": "code",
   "execution_count": 60,
   "metadata": {
    "id": "BdymBzAJ8ZMF"
   },
   "outputs": [],
   "source": [
    "for i in range(3,len(words),1):\n",
    "  fw=words[i-3]\n",
    "  sw=words[i-2]\n",
    "  tw=words[i-1]\n",
    "  frw=words[i]\n",
    "  str_X.append(str(fw)+\" \"+str(sw)+\" \"+str(tw))\n",
    "  str_Y.append(str(frw))\n"
   ]
  },
  {
   "cell_type": "code",
   "execution_count": 61,
   "metadata": {
    "id": "pWTST89d-ACk"
   },
   "outputs": [],
   "source": [
    "import pandas as pd\n",
    "Q=pd.DataFrame([str_X,str_Y]).T\n",
    "Q.columns=[\"X\",\"Y\"]"
   ]
  },
  {
   "cell_type": "code",
   "execution_count": 62,
   "metadata": {
    "colab": {
     "base_uri": "https://localhost:8080/",
     "height": 206
    },
    "id": "hJQPtENq-mUc",
    "outputId": "a1a0b516-ee17-458e-b246-741337314212"
   },
   "outputs": [
    {
     "data": {
      "text/html": [
       "\n",
       "  <div id=\"df-635ac44f-4de1-4acb-af03-04843ccb73b0\">\n",
       "    <div class=\"colab-df-container\">\n",
       "      <div>\n",
       "<style scoped>\n",
       "    .dataframe tbody tr th:only-of-type {\n",
       "        vertical-align: middle;\n",
       "    }\n",
       "\n",
       "    .dataframe tbody tr th {\n",
       "        vertical-align: top;\n",
       "    }\n",
       "\n",
       "    .dataframe thead th {\n",
       "        text-align: right;\n",
       "    }\n",
       "</style>\n",
       "<table border=\"1\" class=\"dataframe\">\n",
       "  <thead>\n",
       "    <tr style=\"text-align: right;\">\n",
       "      <th></th>\n",
       "      <th>X</th>\n",
       "      <th>Y</th>\n",
       "    </tr>\n",
       "  </thead>\n",
       "  <tbody>\n",
       "    <tr>\n",
       "      <th>0</th>\n",
       "      <td>PROJECT GUTENBERG THE</td>\n",
       "      <td>ADVENTUR</td>\n",
       "    </tr>\n",
       "    <tr>\n",
       "      <th>1</th>\n",
       "      <td>GUTENBERG THE ADVENTUR</td>\n",
       "      <td>OF</td>\n",
       "    </tr>\n",
       "    <tr>\n",
       "      <th>2</th>\n",
       "      <td>THE ADVENTUR OF</td>\n",
       "      <td>SHERLOCK</td>\n",
       "    </tr>\n",
       "    <tr>\n",
       "      <th>3</th>\n",
       "      <td>ADVENTUR OF SHERLOCK</td>\n",
       "      <td>HOLM</td>\n",
       "    </tr>\n",
       "    <tr>\n",
       "      <th>4</th>\n",
       "      <td>OF SHERLOCK HOLM</td>\n",
       "      <td>BY</td>\n",
       "    </tr>\n",
       "  </tbody>\n",
       "</table>\n",
       "</div>\n",
       "      <button class=\"colab-df-convert\" onclick=\"convertToInteractive('df-635ac44f-4de1-4acb-af03-04843ccb73b0')\"\n",
       "              title=\"Convert this dataframe to an interactive table.\"\n",
       "              style=\"display:none;\">\n",
       "        \n",
       "  <svg xmlns=\"http://www.w3.org/2000/svg\" height=\"24px\"viewBox=\"0 0 24 24\"\n",
       "       width=\"24px\">\n",
       "    <path d=\"M0 0h24v24H0V0z\" fill=\"none\"/>\n",
       "    <path d=\"M18.56 5.44l.94 2.06.94-2.06 2.06-.94-2.06-.94-.94-2.06-.94 2.06-2.06.94zm-11 1L8.5 8.5l.94-2.06 2.06-.94-2.06-.94L8.5 2.5l-.94 2.06-2.06.94zm10 10l.94 2.06.94-2.06 2.06-.94-2.06-.94-.94-2.06-.94 2.06-2.06.94z\"/><path d=\"M17.41 7.96l-1.37-1.37c-.4-.4-.92-.59-1.43-.59-.52 0-1.04.2-1.43.59L10.3 9.45l-7.72 7.72c-.78.78-.78 2.05 0 2.83L4 21.41c.39.39.9.59 1.41.59.51 0 1.02-.2 1.41-.59l7.78-7.78 2.81-2.81c.8-.78.8-2.07 0-2.86zM5.41 20L4 18.59l7.72-7.72 1.47 1.35L5.41 20z\"/>\n",
       "  </svg>\n",
       "      </button>\n",
       "      \n",
       "  <style>\n",
       "    .colab-df-container {\n",
       "      display:flex;\n",
       "      flex-wrap:wrap;\n",
       "      gap: 12px;\n",
       "    }\n",
       "\n",
       "    .colab-df-convert {\n",
       "      background-color: #E8F0FE;\n",
       "      border: none;\n",
       "      border-radius: 50%;\n",
       "      cursor: pointer;\n",
       "      display: none;\n",
       "      fill: #1967D2;\n",
       "      height: 32px;\n",
       "      padding: 0 0 0 0;\n",
       "      width: 32px;\n",
       "    }\n",
       "\n",
       "    .colab-df-convert:hover {\n",
       "      background-color: #E2EBFA;\n",
       "      box-shadow: 0px 1px 2px rgba(60, 64, 67, 0.3), 0px 1px 3px 1px rgba(60, 64, 67, 0.15);\n",
       "      fill: #174EA6;\n",
       "    }\n",
       "\n",
       "    [theme=dark] .colab-df-convert {\n",
       "      background-color: #3B4455;\n",
       "      fill: #D2E3FC;\n",
       "    }\n",
       "\n",
       "    [theme=dark] .colab-df-convert:hover {\n",
       "      background-color: #434B5C;\n",
       "      box-shadow: 0px 1px 3px 1px rgba(0, 0, 0, 0.15);\n",
       "      filter: drop-shadow(0px 1px 2px rgba(0, 0, 0, 0.3));\n",
       "      fill: #FFFFFF;\n",
       "    }\n",
       "  </style>\n",
       "\n",
       "      <script>\n",
       "        const buttonEl =\n",
       "          document.querySelector('#df-635ac44f-4de1-4acb-af03-04843ccb73b0 button.colab-df-convert');\n",
       "        buttonEl.style.display =\n",
       "          google.colab.kernel.accessAllowed ? 'block' : 'none';\n",
       "\n",
       "        async function convertToInteractive(key) {\n",
       "          const element = document.querySelector('#df-635ac44f-4de1-4acb-af03-04843ccb73b0');\n",
       "          const dataTable =\n",
       "            await google.colab.kernel.invokeFunction('convertToInteractive',\n",
       "                                                     [key], {});\n",
       "          if (!dataTable) return;\n",
       "\n",
       "          const docLinkHtml = 'Like what you see? Visit the ' +\n",
       "            '<a target=\"_blank\" href=https://colab.research.google.com/notebooks/data_table.ipynb>data table notebook</a>'\n",
       "            + ' to learn more about interactive tables.';\n",
       "          element.innerHTML = '';\n",
       "          dataTable['output_type'] = 'display_data';\n",
       "          await google.colab.output.renderOutput(dataTable, element);\n",
       "          const docLink = document.createElement('div');\n",
       "          docLink.innerHTML = docLinkHtml;\n",
       "          element.appendChild(docLink);\n",
       "        }\n",
       "      </script>\n",
       "    </div>\n",
       "  </div>\n",
       "  "
      ],
      "text/plain": [
       "                        X         Y\n",
       "0   PROJECT GUTENBERG THE  ADVENTUR\n",
       "1  GUTENBERG THE ADVENTUR        OF\n",
       "2         THE ADVENTUR OF  SHERLOCK\n",
       "3    ADVENTUR OF SHERLOCK      HOLM\n",
       "4        OF SHERLOCK HOLM        BY"
      ]
     },
     "execution_count": 62,
     "metadata": {},
     "output_type": "execute_result"
    }
   ],
   "source": [
    "Q.head()"
   ]
  },
  {
   "cell_type": "code",
   "execution_count": 71,
   "metadata": {
    "colab": {
     "base_uri": "https://localhost:8080/"
    },
    "id": "NMiPrEXYZEEa",
    "outputId": "92e6944d-8d05-4930-e11d-e75903cd8cd2"
   },
   "outputs": [
    {
     "data": {
      "text/plain": [
       "(12, 2)"
      ]
     },
     "execution_count": 71,
     "metadata": {},
     "output_type": "execute_result"
    }
   ],
   "source": [
    "Q.shape"
   ]
  },
  {
   "cell_type": "code",
   "execution_count": null,
   "metadata": {
    "id": "h4jMhC6fZC_T"
   },
   "outputs": [],
   "source": []
  },
  {
   "cell_type": "markdown",
   "metadata": {
    "id": "egiYuQ1p_QgZ"
   },
   "source": [
    "Converting Data to Array|Tensor"
   ]
  },
  {
   "cell_type": "code",
   "execution_count": 63,
   "metadata": {
    "id": "JYRjPWbl-om8"
   },
   "outputs": [],
   "source": [
    "from numpy import unique\n",
    "uwords=unique(words)"
   ]
  },
  {
   "cell_type": "code",
   "execution_count": 64,
   "metadata": {
    "colab": {
     "base_uri": "https://localhost:8080/"
    },
    "id": "Ovcnnx8QAiXu",
    "outputId": "afa6b7e1-42d3-4b42-a13f-112b68d6897c"
   },
   "outputs": [
    {
     "data": {
      "text/plain": [
       "14"
      ]
     },
     "execution_count": 64,
     "metadata": {},
     "output_type": "execute_result"
    }
   ],
   "source": [
    "len(uwords)"
   ]
  },
  {
   "cell_type": "code",
   "execution_count": 70,
   "metadata": {
    "colab": {
     "base_uri": "https://localhost:8080/"
    },
    "id": "WiBcVOzNY8J2",
    "outputId": "87114a15-2353-4bcb-a63a-b941adf9e548"
   },
   "outputs": [
    {
     "data": {
      "text/plain": [
       "15"
      ]
     },
     "execution_count": 70,
     "metadata": {},
     "output_type": "execute_result"
    }
   ],
   "source": [
    "len(words)"
   ]
  },
  {
   "cell_type": "code",
   "execution_count": 73,
   "metadata": {
    "id": "OzMqAnifAmcF"
   },
   "outputs": [],
   "source": [
    "import numpy as np\n",
    "X_arr=np.zeros((12,14,3),dtype=bool)\n",
    "Y_arr=np.zeros((12,14),dtype=bool)"
   ]
  },
  {
   "cell_type": "code",
   "execution_count": 74,
   "metadata": {
    "id": "V5DFTUp2CDOc"
   },
   "outputs": [],
   "source": [
    "word_position_finder={}\n",
    "for i in range(0,len(uwords),1):\n",
    "  word_position_finder[uwords[i]]=i"
   ]
  },
  {
   "cell_type": "code",
   "execution_count": 75,
   "metadata": {
    "id": "BxIj1dsKEYVS"
   },
   "outputs": [],
   "source": [
    "#word_position_finder"
   ]
  },
  {
   "cell_type": "code",
   "execution_count": 76,
   "metadata": {
    "id": "kKYArAOJEkg8"
   },
   "outputs": [],
   "source": [
    "for i,j in enumerate(str_X):\n",
    "  for j,k in enumerate(j.split(\" \")):\n",
    "      pos=word_position_finder[k]\n",
    "      X_arr[i,pos,j]=1\n"
   ]
  },
  {
   "cell_type": "code",
   "execution_count": 77,
   "metadata": {
    "colab": {
     "base_uri": "https://localhost:8080/"
    },
    "id": "fZLAtTGdPmls",
    "outputId": "a62fc98b-bcae-467b-f564-82bb61e36081"
   },
   "outputs": [
    {
     "data": {
      "text/plain": [
       "7"
      ]
     },
     "execution_count": 77,
     "metadata": {},
     "output_type": "execute_result"
    }
   ],
   "source": [
    "word_position_finder[\"GUTENBERG\"]"
   ]
  },
  {
   "cell_type": "code",
   "execution_count": 78,
   "metadata": {
    "id": "82uqJtd9ZgLQ"
   },
   "outputs": [],
   "source": [
    "for i ,j in enumerate(str_Y):\n",
    "  pos=word_position_finder[j]\n",
    "  Y_arr[i,pos]=1"
   ]
  },
  {
   "cell_type": "code",
   "execution_count": 79,
   "metadata": {
    "colab": {
     "base_uri": "https://localhost:8080/"
    },
    "id": "J9J12V5rZ60Z",
    "outputId": "fd1b64c8-b074-4cc0-e9f4-8adfea976374"
   },
   "outputs": [
    {
     "data": {
      "text/plain": [
       "array([[ True, False, False, False, False, False, False, False, False,\n",
       "        False, False, False, False, False],\n",
       "       [False, False, False, False, False, False, False, False, False,\n",
       "        False,  True, False, False, False],\n",
       "       [False, False, False, False, False, False, False, False, False,\n",
       "        False, False, False,  True, False],\n",
       "       [False, False, False, False, False, False, False, False,  True,\n",
       "        False, False, False, False, False],\n",
       "       [False, False,  True, False, False, False, False, False, False,\n",
       "        False, False, False, False, False],\n",
       "       [False,  True, False, False, False, False, False, False, False,\n",
       "        False, False, False, False, False],\n",
       "       [False, False, False,  True, False, False, False, False, False,\n",
       "        False, False, False, False, False],\n",
       "       [False, False, False, False,  True, False, False, False, False,\n",
       "        False, False, False, False, False],\n",
       "       [False, False, False, False, False,  True, False, False, False,\n",
       "        False, False, False, False, False],\n",
       "       [False, False, False, False, False, False, False, False, False,\n",
       "         True, False, False, False, False],\n",
       "       [False, False, False, False, False, False,  True, False, False,\n",
       "        False, False, False, False, False],\n",
       "       [False, False, False, False, False, False, False, False, False,\n",
       "        False, False, False, False,  True]])"
      ]
     },
     "execution_count": 79,
     "metadata": {},
     "output_type": "execute_result"
    }
   ],
   "source": [
    "Y_arr"
   ]
  },
  {
   "cell_type": "markdown",
   "metadata": {
    "id": "Rgs0_yJ_aB5E"
   },
   "source": [
    "Creating Neural Network"
   ]
  },
  {
   "cell_type": "code",
   "execution_count": 80,
   "metadata": {
    "id": "tI7EB-JtTE5Q"
   },
   "outputs": [],
   "source": [
    "from keras.layers import Dense,RNN,LSTM\n",
    "from keras.layers import Activation\n",
    "from keras.models import Sequential"
   ]
  },
  {
   "cell_type": "code",
   "execution_count": 81,
   "metadata": {
    "id": "Ql0NLL-kW-y-"
   },
   "outputs": [],
   "source": [
    "import tensorflow\n"
   ]
  },
  {
   "cell_type": "code",
   "execution_count": 82,
   "metadata": {
    "id": "5E90E-_RamlM"
   },
   "outputs": [],
   "source": [
    "\n",
    "nn=Sequential()\n",
    "nn.add(LSTM(200,input_shape=(len(uwords),3)))# Number od columns=unique word*3 word per line\n",
    "nn.add(Dense(len(uwords),activation=\"softmax\"))"
   ]
  },
  {
   "cell_type": "code",
   "execution_count": 83,
   "metadata": {
    "colab": {
     "base_uri": "https://localhost:8080/"
    },
    "id": "89synp7Qf9zx",
    "outputId": "276ee566-d4f6-495b-9662-9f3f4c86b6c5"
   },
   "outputs": [
    {
     "name": "stdout",
     "output_type": "stream",
     "text": [
      "Epoch 1/100\n",
      "2/2 [==============================] - 7s 22ms/step - loss: 2.6421 - accuracy: 0.1667\n",
      "Epoch 2/100\n",
      "2/2 [==============================] - 0s 11ms/step - loss: 2.6310 - accuracy: 0.1667\n",
      "Epoch 3/100\n",
      "2/2 [==============================] - 0s 11ms/step - loss: 2.6231 - accuracy: 0.0833\n",
      "Epoch 4/100\n",
      "2/2 [==============================] - 0s 10ms/step - loss: 2.6153 - accuracy: 0.1667\n",
      "Epoch 5/100\n",
      "2/2 [==============================] - 0s 11ms/step - loss: 2.6072 - accuracy: 0.3333\n",
      "Epoch 6/100\n",
      "2/2 [==============================] - 0s 10ms/step - loss: 2.5986 - accuracy: 0.4167\n",
      "Epoch 7/100\n",
      "2/2 [==============================] - 0s 11ms/step - loss: 2.5902 - accuracy: 0.5000\n",
      "Epoch 8/100\n",
      "2/2 [==============================] - 0s 12ms/step - loss: 2.5811 - accuracy: 0.3333\n",
      "Epoch 9/100\n",
      "2/2 [==============================] - 0s 11ms/step - loss: 2.5692 - accuracy: 0.3333\n",
      "Epoch 10/100\n",
      "2/2 [==============================] - 0s 11ms/step - loss: 2.5584 - accuracy: 0.3333\n",
      "Epoch 11/100\n",
      "2/2 [==============================] - 0s 11ms/step - loss: 2.5404 - accuracy: 0.4167\n",
      "Epoch 12/100\n",
      "2/2 [==============================] - 0s 11ms/step - loss: 2.5239 - accuracy: 0.3333\n",
      "Epoch 13/100\n",
      "2/2 [==============================] - 0s 12ms/step - loss: 2.5013 - accuracy: 0.3333\n",
      "Epoch 14/100\n",
      "2/2 [==============================] - 0s 11ms/step - loss: 2.4763 - accuracy: 0.3333\n",
      "Epoch 15/100\n",
      "2/2 [==============================] - 0s 10ms/step - loss: 2.4432 - accuracy: 0.2500\n",
      "Epoch 16/100\n",
      "2/2 [==============================] - 0s 11ms/step - loss: 2.4057 - accuracy: 0.1667\n",
      "Epoch 17/100\n",
      "2/2 [==============================] - 0s 12ms/step - loss: 2.3629 - accuracy: 0.1667\n",
      "Epoch 18/100\n",
      "2/2 [==============================] - 0s 10ms/step - loss: 2.4126 - accuracy: 0.1667\n",
      "Epoch 19/100\n",
      "2/2 [==============================] - 0s 11ms/step - loss: 2.3809 - accuracy: 0.1667\n",
      "Epoch 20/100\n",
      "2/2 [==============================] - 0s 10ms/step - loss: 2.2834 - accuracy: 0.1667\n",
      "Epoch 21/100\n",
      "2/2 [==============================] - 0s 12ms/step - loss: 2.2657 - accuracy: 0.2500\n",
      "Epoch 22/100\n",
      "2/2 [==============================] - 0s 12ms/step - loss: 2.2590 - accuracy: 0.4167\n",
      "Epoch 23/100\n",
      "2/2 [==============================] - 0s 11ms/step - loss: 2.1903 - accuracy: 0.4167\n",
      "Epoch 24/100\n",
      "2/2 [==============================] - 0s 12ms/step - loss: 2.1053 - accuracy: 0.5833\n",
      "Epoch 25/100\n",
      "2/2 [==============================] - 0s 10ms/step - loss: 2.0363 - accuracy: 0.4167\n",
      "Epoch 26/100\n",
      "2/2 [==============================] - 0s 11ms/step - loss: 2.0104 - accuracy: 0.3333\n",
      "Epoch 27/100\n",
      "2/2 [==============================] - 0s 11ms/step - loss: 1.9447 - accuracy: 0.3333\n",
      "Epoch 28/100\n",
      "2/2 [==============================] - 0s 11ms/step - loss: 1.8702 - accuracy: 0.4167\n",
      "Epoch 29/100\n",
      "2/2 [==============================] - 0s 11ms/step - loss: 1.7279 - accuracy: 0.5000\n",
      "Epoch 30/100\n",
      "2/2 [==============================] - 0s 11ms/step - loss: 1.6563 - accuracy: 0.4167\n",
      "Epoch 31/100\n",
      "2/2 [==============================] - 0s 12ms/step - loss: 1.7622 - accuracy: 0.5000\n",
      "Epoch 32/100\n",
      "2/2 [==============================] - 0s 11ms/step - loss: 1.5513 - accuracy: 0.5000\n",
      "Epoch 33/100\n",
      "2/2 [==============================] - 0s 10ms/step - loss: 1.3883 - accuracy: 0.5833\n",
      "Epoch 34/100\n",
      "2/2 [==============================] - 0s 11ms/step - loss: 1.2636 - accuracy: 0.6667\n",
      "Epoch 35/100\n",
      "2/2 [==============================] - 0s 12ms/step - loss: 1.1356 - accuracy: 0.6667\n",
      "Epoch 36/100\n",
      "2/2 [==============================] - 0s 11ms/step - loss: 0.9897 - accuracy: 0.6667\n",
      "Epoch 37/100\n",
      "2/2 [==============================] - 0s 12ms/step - loss: 0.9508 - accuracy: 0.7500\n",
      "Epoch 38/100\n",
      "2/2 [==============================] - 0s 12ms/step - loss: 0.8363 - accuracy: 0.9167\n",
      "Epoch 39/100\n",
      "2/2 [==============================] - 0s 13ms/step - loss: 0.7798 - accuracy: 0.8333\n",
      "Epoch 40/100\n",
      "2/2 [==============================] - 0s 11ms/step - loss: 0.8383 - accuracy: 0.7500\n",
      "Epoch 41/100\n",
      "2/2 [==============================] - 0s 11ms/step - loss: 0.8192 - accuracy: 0.7500\n",
      "Epoch 42/100\n",
      "2/2 [==============================] - 0s 11ms/step - loss: 0.7981 - accuracy: 0.6667\n",
      "Epoch 43/100\n",
      "2/2 [==============================] - 0s 11ms/step - loss: 0.8040 - accuracy: 0.7500\n",
      "Epoch 44/100\n",
      "2/2 [==============================] - 0s 11ms/step - loss: 0.7353 - accuracy: 0.8333\n",
      "Epoch 45/100\n",
      "2/2 [==============================] - 0s 12ms/step - loss: 0.6694 - accuracy: 0.7500\n",
      "Epoch 46/100\n",
      "2/2 [==============================] - 0s 11ms/step - loss: 0.6226 - accuracy: 0.8333\n",
      "Epoch 47/100\n",
      "2/2 [==============================] - 0s 12ms/step - loss: 0.5625 - accuracy: 0.7500\n",
      "Epoch 48/100\n",
      "2/2 [==============================] - 0s 12ms/step - loss: 0.4277 - accuracy: 1.0000\n",
      "Epoch 49/100\n",
      "2/2 [==============================] - 0s 13ms/step - loss: 0.3715 - accuracy: 1.0000\n",
      "Epoch 50/100\n",
      "2/2 [==============================] - 0s 12ms/step - loss: 0.3516 - accuracy: 1.0000\n",
      "Epoch 51/100\n",
      "2/2 [==============================] - 0s 12ms/step - loss: 0.2969 - accuracy: 1.0000\n",
      "Epoch 52/100\n",
      "2/2 [==============================] - 0s 12ms/step - loss: 0.2511 - accuracy: 1.0000\n",
      "Epoch 53/100\n",
      "2/2 [==============================] - 0s 13ms/step - loss: 0.2699 - accuracy: 1.0000\n",
      "Epoch 54/100\n",
      "2/2 [==============================] - 0s 12ms/step - loss: 0.2544 - accuracy: 1.0000\n",
      "Epoch 55/100\n",
      "2/2 [==============================] - 0s 12ms/step - loss: 0.2564 - accuracy: 0.9167\n",
      "Epoch 56/100\n",
      "2/2 [==============================] - 0s 11ms/step - loss: 0.2612 - accuracy: 0.9167\n",
      "Epoch 57/100\n",
      "2/2 [==============================] - 0s 11ms/step - loss: 0.1607 - accuracy: 1.0000\n",
      "Epoch 58/100\n",
      "2/2 [==============================] - 0s 11ms/step - loss: 0.1663 - accuracy: 1.0000\n",
      "Epoch 59/100\n",
      "2/2 [==============================] - 0s 12ms/step - loss: 0.1252 - accuracy: 1.0000\n",
      "Epoch 60/100\n",
      "2/2 [==============================] - 0s 12ms/step - loss: 0.0976 - accuracy: 1.0000\n",
      "Epoch 61/100\n",
      "2/2 [==============================] - 0s 12ms/step - loss: 0.1976 - accuracy: 0.9167\n",
      "Epoch 62/100\n",
      "2/2 [==============================] - 0s 12ms/step - loss: 0.1038 - accuracy: 1.0000\n",
      "Epoch 63/100\n",
      "2/2 [==============================] - 0s 12ms/step - loss: 0.0925 - accuracy: 1.0000\n",
      "Epoch 64/100\n",
      "2/2 [==============================] - 0s 12ms/step - loss: 0.0849 - accuracy: 1.0000\n",
      "Epoch 65/100\n",
      "2/2 [==============================] - 0s 12ms/step - loss: 0.0695 - accuracy: 1.0000\n",
      "Epoch 66/100\n",
      "2/2 [==============================] - 0s 11ms/step - loss: 0.0565 - accuracy: 1.0000\n",
      "Epoch 67/100\n",
      "2/2 [==============================] - 0s 11ms/step - loss: 0.0555 - accuracy: 1.0000\n",
      "Epoch 68/100\n",
      "2/2 [==============================] - 0s 12ms/step - loss: 0.0597 - accuracy: 1.0000\n",
      "Epoch 69/100\n",
      "2/2 [==============================] - 0s 13ms/step - loss: 0.0546 - accuracy: 1.0000\n",
      "Epoch 70/100\n",
      "2/2 [==============================] - 0s 12ms/step - loss: 0.0447 - accuracy: 1.0000\n",
      "Epoch 71/100\n",
      "2/2 [==============================] - 0s 15ms/step - loss: 0.0480 - accuracy: 1.0000\n",
      "Epoch 72/100\n",
      "2/2 [==============================] - 0s 15ms/step - loss: 0.0521 - accuracy: 1.0000\n",
      "Epoch 73/100\n",
      "2/2 [==============================] - 0s 12ms/step - loss: 0.0435 - accuracy: 1.0000\n",
      "Epoch 74/100\n",
      "2/2 [==============================] - 0s 12ms/step - loss: 0.0372 - accuracy: 1.0000\n",
      "Epoch 75/100\n",
      "2/2 [==============================] - 0s 12ms/step - loss: 0.0353 - accuracy: 1.0000\n",
      "Epoch 76/100\n",
      "2/2 [==============================] - 0s 12ms/step - loss: 0.0293 - accuracy: 1.0000\n",
      "Epoch 77/100\n",
      "2/2 [==============================] - 0s 12ms/step - loss: 0.0263 - accuracy: 1.0000\n",
      "Epoch 78/100\n",
      "2/2 [==============================] - 0s 12ms/step - loss: 0.0287 - accuracy: 1.0000\n",
      "Epoch 79/100\n",
      "2/2 [==============================] - 0s 12ms/step - loss: 0.0274 - accuracy: 1.0000\n",
      "Epoch 80/100\n",
      "2/2 [==============================] - 0s 13ms/step - loss: 0.0231 - accuracy: 1.0000\n",
      "Epoch 81/100\n",
      "2/2 [==============================] - 0s 13ms/step - loss: 0.0217 - accuracy: 1.0000\n",
      "Epoch 82/100\n",
      "2/2 [==============================] - 0s 12ms/step - loss: 0.0208 - accuracy: 1.0000\n",
      "Epoch 83/100\n",
      "2/2 [==============================] - 0s 12ms/step - loss: 0.0206 - accuracy: 1.0000\n",
      "Epoch 84/100\n",
      "2/2 [==============================] - 0s 11ms/step - loss: 0.0210 - accuracy: 1.0000\n",
      "Epoch 85/100\n",
      "2/2 [==============================] - 0s 12ms/step - loss: 0.0196 - accuracy: 1.0000\n",
      "Epoch 86/100\n",
      "2/2 [==============================] - 0s 12ms/step - loss: 0.0192 - accuracy: 1.0000\n",
      "Epoch 87/100\n",
      "2/2 [==============================] - 0s 11ms/step - loss: 0.0179 - accuracy: 1.0000\n",
      "Epoch 88/100\n",
      "2/2 [==============================] - 0s 12ms/step - loss: 0.0163 - accuracy: 1.0000\n",
      "Epoch 89/100\n",
      "2/2 [==============================] - 0s 12ms/step - loss: 0.0172 - accuracy: 1.0000\n",
      "Epoch 90/100\n",
      "2/2 [==============================] - 0s 12ms/step - loss: 0.0184 - accuracy: 1.0000\n",
      "Epoch 91/100\n",
      "2/2 [==============================] - 0s 13ms/step - loss: 0.0171 - accuracy: 1.0000\n",
      "Epoch 92/100\n",
      "2/2 [==============================] - 0s 12ms/step - loss: 0.0144 - accuracy: 1.0000\n",
      "Epoch 93/100\n",
      "2/2 [==============================] - 0s 11ms/step - loss: 0.0155 - accuracy: 1.0000\n",
      "Epoch 94/100\n",
      "2/2 [==============================] - 0s 13ms/step - loss: 0.0209 - accuracy: 1.0000\n",
      "Epoch 95/100\n",
      "2/2 [==============================] - 0s 13ms/step - loss: 0.0166 - accuracy: 1.0000\n",
      "Epoch 96/100\n",
      "2/2 [==============================] - 0s 10ms/step - loss: 0.0134 - accuracy: 1.0000\n",
      "Epoch 97/100\n",
      "2/2 [==============================] - 0s 13ms/step - loss: 0.0134 - accuracy: 1.0000\n",
      "Epoch 98/100\n",
      "2/2 [==============================] - 0s 12ms/step - loss: 0.0150 - accuracy: 1.0000\n",
      "Epoch 99/100\n",
      "2/2 [==============================] - 0s 12ms/step - loss: 0.0155 - accuracy: 1.0000\n",
      "Epoch 100/100\n",
      "2/2 [==============================] - 0s 12ms/step - loss: 0.0139 - accuracy: 1.0000\n"
     ]
    },
    {
     "data": {
      "text/plain": [
       "<keras.callbacks.History at 0x7fa851cf0a50>"
      ]
     },
     "execution_count": 83,
     "metadata": {},
     "output_type": "execute_result"
    }
   ],
   "source": [
    "nn.compile(loss=\"categorical_crossentropy\",optimizer=\"adam\",metrics=[\"accuracy\"])\n",
    "nn.fit(X_arr,Y_arr,batch_size=10,epochs=100)"
   ]
  },
  {
   "cell_type": "code",
   "execution_count": null,
   "metadata": {
    "id": "j6hBEdugff50"
   },
   "outputs": [],
   "source": []
  }
 ],
 "metadata": {
  "accelerator": "GPU",
  "colab": {
   "name": "LSTM_Sentence_Complition.ipynb",
   "provenance": []
  },
  "kernelspec": {
   "display_name": "Python 3 (ipykernel)",
   "language": "python",
   "name": "python3"
  },
  "language_info": {
   "codemirror_mode": {
    "name": "ipython",
    "version": 3
   },
   "file_extension": ".py",
   "mimetype": "text/x-python",
   "name": "python",
   "nbconvert_exporter": "python",
   "pygments_lexer": "ipython3",
   "version": "3.8.12"
  }
 },
 "nbformat": 4,
 "nbformat_minor": 1
}
